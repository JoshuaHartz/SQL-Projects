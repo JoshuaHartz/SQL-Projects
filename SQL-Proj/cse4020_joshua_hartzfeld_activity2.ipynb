{
 "cells": [
  {
   "cell_type": "markdown",
   "id": "f16b25d3",
   "metadata": {},
   "source": [
    "# Activity 1"
   ]
  },
  {
   "cell_type": "markdown",
   "id": "e7b44fa6",
   "metadata": {},
   "source": [
    "### Joshua Hartzfeld\n",
    "### CSE 4020"
   ]
  },
  {
   "cell_type": "markdown",
   "id": "bb6dca7b",
   "metadata": {},
   "source": [
    "#### Question 1\n",
    "In a Jupyter Notebook, write code either in Python, Java or C to connect to your AWS RDS\n",
    "instance and insert the data from each of the CSV files into the RDS database that you created on AWS on\n",
    "Activity 1. Display the number of rows affected for each table (1 cumulative count for all inserts per table\n",
    "- example: 15 rows inserted for table customer). (Hint: If your data types do not match the given data,\n",
    "you may use the following SQL statement to update your data types: ALTER TABLE table_name MODIFY\n",
    "column_name NEW_DATA_TYPE;)"
   ]
  },
  {
   "cell_type": "code",
   "execution_count": 1,
   "id": "2dcb264a",
   "metadata": {},
   "outputs": [],
   "source": [
    "import mysql.connector"
   ]
  },
  {
   "cell_type": "code",
   "execution_count": 2,
   "id": "d5994b13",
   "metadata": {},
   "outputs": [],
   "source": [
    "# updating bank DB to fix some column values\n",
    "\n",
    "import mysql.connector\n",
    "\n",
    "#connection made ignore my password\n",
    "db = mysql.connector.connect(host='bankdb.c8vwdpg3sx2q.us-east-1.rds.amazonaws.com',user='admin',password='-=ZF=-6969')\n",
    "\n",
    "#setting up channel and opening file\n",
    "cursor = db.cursor()\n",
    "DDLFile = open('hw1ddl.sql', encoding='utf-8')\n",
    "\n",
    "#executes each line straight too AWS DB \"bank\"\n",
    "for line in DDLFile:\n",
    "    cursor.execute(line)"
   ]
  },
  {
   "cell_type": "code",
   "execution_count": 3,
   "id": "40f37830",
   "metadata": {
    "scrolled": true
   },
   "outputs": [
    {
     "name": "stdout",
     "output_type": "stream",
     "text": [
      "branch 9 rows affected\n",
      "\n",
      "account 9 rows affected\n",
      "\n",
      "depositor 10 rows affected\n",
      "\n",
      "customer 15 rows affected\n",
      "\n",
      "loan 9 rows affected\n",
      "\n",
      "borrower 10 rows affected\n",
      "\n"
     ]
    }
   ],
   "source": [
    "#starting to import csvs\n",
    "from csv import reader\n",
    "csv_tem = \"{}.csv\"\n",
    "tables = [\"branch\",\"account\",\"depositor\",\"customer\",\"loan\",\"borrower\"]\n",
    "for each in tables:\n",
    "    with open(csv_tem.format(each)) as csv_file:\n",
    "        csv_reader = reader(csv_file)\n",
    "        sql_command = \"\"\"INSERT INTO {}({}) VALUES({});\"\"\"\n",
    "        num_wildcards = 0\n",
    "        \n",
    "        for i, row in enumerate(csv_reader):\n",
    "            counter = 0\n",
    "            if i == 0:\n",
    "                header = row\n",
    "                #print(header)\n",
    "            else:\n",
    "                num_wildcards = len(row)\n",
    "                wildcards = ['%s'] * num_wildcards\n",
    "                wildcard_str = ', '.join(wildcards)\n",
    "            \n",
    "                header_str = ', '.join(header)\n",
    "                #print(wildcard_str)\n",
    "                #print(wildcards)\n",
    "                record = tuple(row)\n",
    "                #print(record)\n",
    "                sql_command = sql_command.format(each, header_str, wildcard_str)\n",
    "                #print(sql_command)\n",
    "                cursor.execute(sql_command, record)\n",
    "                db.commit()\n",
    "                \n",
    "                print('\\r',f\"{each} {i} rows affected\", end='')\n",
    "        print('\\n')\n",
    "            \n",
    "db.close()\n",
    "            \n",
    "    \n",
    "        "
   ]
  },
  {
   "cell_type": "markdown",
   "id": "de14343b",
   "metadata": {},
   "source": [
    "### Question 2\n",
    "Write code to issue queries on your database and display your results for the following scenarios. Make sure\n",
    "to print out a tabulation of your branch table ordered by assets in descending order to show the\n",
    "data before and after the changes.\n",
    "\n",
    "A branch of the bank is considered a large branch if it has assets >= 3 million dollars. Imagine that COVID-\n",
    "19 affected the bank terribly and the branches with assets >= 3 million dollars had to liquidate 12.5% of\n",
    "their assets to help the smaller branches (branches with assets < 3 million dollars)."
   ]
  },
  {
   "cell_type": "markdown",
   "id": "f46c5357",
   "metadata": {},
   "source": [
    "### a)\n",
    "Isue a single query that returns the branch_name, branch_city, and assets of the branches\n",
    "that will be liquidated based on the liquidation formula above."
   ]
  },
  {
   "cell_type": "code",
   "execution_count": 4,
   "id": "5ee0cf37",
   "metadata": {},
   "outputs": [
    {
     "name": "stdout",
     "output_type": "stream",
     "text": [
      "Branch Name    Branch City\n",
      "Round Hill     Horseneck\n",
      "Brighton       Brooklyn\n",
      "North Town     Rye\n"
     ]
    }
   ],
   "source": [
    "db = mysql.connector.connect(host='bankdb.c8vwdpg3sx2q.us-east-1.rds.amazonaws.com',database='bank',user='admin',password='-=ZF=-6969')\n",
    "cursor = db.cursor()\n",
    "cursor.execute(\"SELECT branch_name, branch_city FROM branch WHERE assets >= 3000000 order by assets desc\")\n",
    "print(f\"Branch Name{' ':3} Branch City\")\n",
    "for x in cursor:\n",
    "    print(f\"{x[0]:<14} {x[1]}\")\n",
    "db.close()"
   ]
  },
  {
   "cell_type": "markdown",
   "id": "92d0dfcd",
   "metadata": {},
   "source": [
    "### b)\n",
    "Issue an update query that reduces the assets for the large branches by the liquidation formula\n",
    "above."
   ]
  },
  {
   "cell_type": "code",
   "execution_count": 5,
   "id": "f8085ac4",
   "metadata": {},
   "outputs": [],
   "source": [
    "db = mysql.connector.connect(host='bankdb.c8vwdpg3sx2q.us-east-1.rds.amazonaws.com',database='bank',user='admin',password='-=ZF=-6969')\n",
    "cursor = db.cursor()"
   ]
  },
  {
   "cell_type": "code",
   "execution_count": 6,
   "id": "33649a8a",
   "metadata": {},
   "outputs": [
    {
     "name": "stdout",
     "output_type": "stream",
     "text": [
      "7000000.00\n",
      "3700000.00\n",
      "8000000.00\n",
      "[875000.0, 462500.0, 1000000.0]\n"
     ]
    }
   ],
   "source": [
    "#doing calculations to store data for next part\n",
    "data = []\n",
    "cursor.execute('SELECT assets FROM branch WHERE assets >= 3000000')\n",
    "for x in cursor:\n",
    "    print(x[0])\n",
    "    result = (int(x[0])*.125)\n",
    "    data.append(result)\n",
    "print(data)"
   ]
  },
  {
   "cell_type": "code",
   "execution_count": 7,
   "id": "ef947106",
   "metadata": {},
   "outputs": [
    {
     "name": "stdout",
     "output_type": "stream",
     "text": [
      "Branch Name    Branch City    assets\n",
      "Round Hill     Horseneck      8000000.00\n",
      "Brighton       Brooklyn       7000000.00\n",
      "North Town     Rye            3700000.00\n",
      "Redwood        Palo Alto      2100000.00\n",
      "Perryridge     Horseneck      1700000.00\n",
      "Downtown       Brooklyn       900000.00\n",
      "Central        Rye            400280.00\n",
      "Mianus         Horseneck      400200.00\n",
      "Pownal         Bennington     400000.00\n"
     ]
    }
   ],
   "source": [
    "#before\n",
    "cursor.execute('SELECT * FROM branch order by assets desc')\n",
    "print(f\"Branch Name{' ':3} Branch City{' ':3} assets\")\n",
    "for x in cursor:\n",
    "    print(f\"{x[0]:<14} {x[1]:<14} {x[2]}\")"
   ]
  },
  {
   "cell_type": "code",
   "execution_count": 8,
   "id": "fa72e99f",
   "metadata": {},
   "outputs": [],
   "source": [
    "cursor.execute(\"UPDATE branch SET assets = assets - (assets * .125) where assets >= 3000000\")"
   ]
  },
  {
   "cell_type": "code",
   "execution_count": 9,
   "id": "00487592",
   "metadata": {},
   "outputs": [
    {
     "name": "stdout",
     "output_type": "stream",
     "text": [
      "Branch Name    Branch City    assets\n",
      "Round Hill     Horseneck      7000000.00\n",
      "Brighton       Brooklyn       6125000.00\n",
      "North Town     Rye            3237500.00\n",
      "Redwood        Palo Alto      2100000.00\n",
      "Perryridge     Horseneck      1700000.00\n",
      "Downtown       Brooklyn       900000.00\n",
      "Central        Rye            400280.00\n",
      "Mianus         Horseneck      400200.00\n",
      "Pownal         Bennington     400000.00\n"
     ]
    }
   ],
   "source": [
    "#after\n",
    "cursor.execute('SELECT * FROM branch order by assets desc')\n",
    "print(f\"Branch Name{' ':3} Branch City{' ':3} assets\")\n",
    "for x in cursor:\n",
    "    print(f\"{x[0]:<14} {x[1]:<14} {x[2]}\")"
   ]
  },
  {
   "cell_type": "markdown",
   "id": "87717563",
   "metadata": {},
   "source": [
    "### c)\n",
    "issue an update query that divides equally the total amount liquidated among the small branches."
   ]
  },
  {
   "cell_type": "code",
   "execution_count": 10,
   "id": "236f8c3c",
   "metadata": {},
   "outputs": [],
   "source": [
    "#getting distribution value\n",
    "result = 0\n",
    "for each in data:\n",
    "    result = result + int(each)\n",
    "    \n",
    "total = result/6"
   ]
  },
  {
   "cell_type": "code",
   "execution_count": 11,
   "id": "71193b2f",
   "metadata": {},
   "outputs": [
    {
     "name": "stdout",
     "output_type": "stream",
     "text": [
      "Branch Name    Branch City    assets\n",
      "Round Hill     Horseneck      7000000.00\n",
      "Brighton       Brooklyn       6125000.00\n",
      "North Town     Rye            3237500.00\n",
      "Redwood        Palo Alto      2100000.00\n",
      "Perryridge     Horseneck      1700000.00\n",
      "Downtown       Brooklyn       900000.00\n",
      "Central        Rye            400280.00\n",
      "Mianus         Horseneck      400200.00\n",
      "Pownal         Bennington     400000.00\n"
     ]
    }
   ],
   "source": [
    "#before\n",
    "cursor.execute('SELECT * FROM branch order by assets desc')\n",
    "print(f\"Branch Name{' ':3} Branch City{' ':3} assets\")\n",
    "for x in cursor:\n",
    "    print(f\"{x[0]:<14} {x[1]:<14} {x[2]}\")"
   ]
  },
  {
   "cell_type": "code",
   "execution_count": 12,
   "id": "ad020c8d",
   "metadata": {},
   "outputs": [],
   "source": [
    "#db = mysql.connector.connect(host='bankdb.c8vwdpg3sx2q.us-east-1.rds.amazonaws.com',database='bank',user='admin',password='-=ZF=-6969')\n",
    "#cursor = db.cursor()\n",
    "sql_string = \"\"\"UPDATE branch SET assets = assets + {} where assets < 3000000\"\"\"\n",
    "sql_string = sql_string.format(total)\n",
    "cursor.execute(sql_string)\n"
   ]
  },
  {
   "cell_type": "code",
   "execution_count": 13,
   "id": "1e4046c9",
   "metadata": {},
   "outputs": [
    {
     "name": "stdout",
     "output_type": "stream",
     "text": [
      "Branch Name    Branch City    assets\n",
      "Round Hill     Horseneck      7000000.00\n",
      "Brighton       Brooklyn       6125000.00\n",
      "North Town     Rye            3237500.00\n",
      "Redwood        Palo Alto      2489583.33\n",
      "Perryridge     Horseneck      2089583.33\n",
      "Downtown       Brooklyn       1289583.33\n",
      "Central        Rye            789863.33\n",
      "Mianus         Horseneck      789783.33\n",
      "Pownal         Bennington     789583.33\n"
     ]
    }
   ],
   "source": [
    "#after\n",
    "cursor.execute('SELECT * FROM branch order by assets desc')\n",
    "print(f\"Branch Name{' ':3} Branch City{' ':3} assets\")\n",
    "for x in cursor:\n",
    "    print(f\"{x[0]:<14} {x[1]:<14} {x[2]}\")"
   ]
  },
  {
   "cell_type": "markdown",
   "id": "a70ee7d0",
   "metadata": {},
   "source": [
    "### d)\n",
    "Use a single query to fetch and display a tabulation showing the customer_name, cus-\n",
    "tomer_city, and account_number of all customers who have accounts at a small branch. Include the\n",
    "branch_name and assets in your results and order your results by assets in descending order"
   ]
  },
  {
   "cell_type": "code",
   "execution_count": 14,
   "id": "460df8d9",
   "metadata": {},
   "outputs": [
    {
     "name": "stdout",
     "output_type": "stream",
     "text": [
      "customer_name    customer_city    account_number    branch_name    assets\n",
      "Lindsay          Pittsfield       A-222             Redwood        2489583.33\n",
      "Hayes            Harrison         A-102             Perryridge     2089583.33\n",
      "Johnson          Palo Alto        A-201             Perryridge     2089583.33\n",
      "Hayes            Harrison         A-101             Downtown       1289583.33\n",
      "Johnson          Palo Alto        A-101             Downtown       1289583.33\n",
      "Majeris          Rye              A-333             Central        789863.33\n",
      "Smith            Rye              A-215             Mianus         789783.33\n"
     ]
    }
   ],
   "source": [
    "cursor.execute('SELECT d.customer_name, c.customer_city, a.account_number, b.branch_name, b.assets FROM branch b JOIN account a ON a.branch_name = b.branch_name JOIN depositor d ON d.account_number = a.account_number JOIN customer c ON c.customer_name = d.customer_name WHERE assets < 3000000 order by assets desc')\n",
    "print(f\"customer_name{' ':3} customer_city{' ':3} account_number{' ':3} branch_name{' ':3} assets\")\n",
    "for each in cursor:\n",
    "    print(f\"{each[0]:<16} {each[1]:<16} {each[2]:<17} {each[3]:<14} {each[4]:<9}\")"
   ]
  },
  {
   "cell_type": "code",
   "execution_count": 15,
   "id": "feaf1a97",
   "metadata": {},
   "outputs": [],
   "source": [
    "db.commit()"
   ]
  },
  {
   "cell_type": "code",
   "execution_count": 16,
   "id": "c4cf3cbf",
   "metadata": {},
   "outputs": [],
   "source": [
    "db.close()"
   ]
  },
  {
   "cell_type": "code",
   "execution_count": null,
   "id": "239f0455",
   "metadata": {},
   "outputs": [],
   "source": []
  }
 ],
 "metadata": {
  "kernelspec": {
   "display_name": "Python 3 (ipykernel)",
   "language": "python",
   "name": "python3"
  },
  "language_info": {
   "codemirror_mode": {
    "name": "ipython",
    "version": 3
   },
   "file_extension": ".py",
   "mimetype": "text/x-python",
   "name": "python",
   "nbconvert_exporter": "python",
   "pygments_lexer": "ipython3",
   "version": "3.9.12"
  }
 },
 "nbformat": 4,
 "nbformat_minor": 5
}

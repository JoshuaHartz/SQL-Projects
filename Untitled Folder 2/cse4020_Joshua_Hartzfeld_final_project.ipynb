{
 "cells": [
  {
   "cell_type": "markdown",
   "id": "3e8f0535",
   "metadata": {},
   "source": [
    "# Final Project"
   ]
  },
  {
   "cell_type": "markdown",
   "id": "026830bf",
   "metadata": {},
   "source": [
    "## By Josh Hartzfeld"
   ]
  },
  {
   "cell_type": "markdown",
   "id": "607818dd",
   "metadata": {},
   "source": [
    "1. (5 points) Create a DDL file based on the following ER diagram (You may use dbdiagram.io as demonstrated in class\n",
    "or you may create the tables manually). Make sure to represent the keys (primary and foreign) in your DDL. Add your\n",
    "DDL file as Markdown color-coded SQL statements to your notebook."
   ]
  },
  {
   "cell_type": "markdown",
   "id": "ae3107e2",
   "metadata": {},
   "source": [
    "```sql\n",
    "CREATE DATABASE imdb_movies;\n",
    "USE imdb_movies;\n",
    "\n",
    "CREATE TABLE directors (\n",
    "    id INT(11),\n",
    "    first_name VARCHAR(100),\n",
    "    last_name VARCHAR(100),\n",
    "    PRIMARY KEY (id)\n",
    ");\n",
    "\n",
    "CREATE TABLE movies (\n",
    "    id INT(11),\n",
    "    name VARCHAR(100),\n",
    "    year INT(11),\n",
    "    `rank` FLOAT,\n",
    "    PRIMARY KEY (id)\n",
    ");\n",
    "\n",
    "CREATE TABLE movies_directors (\n",
    "    director_id INT(11),\n",
    "    movie_id INT(11),\n",
    "    PRIMARY KEY (director_id , movie_id),\n",
    "    FOREIGN KEY (director_id)\n",
    "        REFERENCES directors (id),\n",
    "    FOREIGN KEY (movie_id)\n",
    "        REFERENCES movies (id)\n",
    ");\n",
    "\n",
    "CREATE TABLE directors_genres (\n",
    "    director_id INT(11),\n",
    "    genre VARCHAR(100),\n",
    "    prob FLOAT,\n",
    "    PRIMARY KEY (director_id , genre),\n",
    "    FOREIGN KEY (director_id)\n",
    "        REFERENCES directors (id)\n",
    ");\n",
    "\n",
    "CREATE TABLE movies_genres (\n",
    "    movie_id INT(11),\n",
    "    genre VARCHAR(100),\n",
    "    PRIMARY KEY (movie_id, genre),\n",
    "    FOREIGN KEY (movie_id)\n",
    "        REFERENCES movies (id)\n",
    ");\n",
    "\n",
    "CREATE TABLE actors (\n",
    "    id INT(11),\n",
    "    first_name VARCHAR(100),\n",
    "    last_name VARCHAR(100),\n",
    "    gender CHAR(1),\n",
    "    PRIMARY KEY (id)\n",
    ");\n",
    "\n",
    "CREATE TABLE roles (\n",
    "    actor_id INT(11),\n",
    "    movie_id INT(11),\n",
    "    PRIMARY KEY (movie_id , actor_id, role),\n",
    "    FOREIGN KEY (movie_id)\n",
    "        REFERENCES movies (id),\n",
    "    FOREIGN KEY (actor_id)\n",
    "        REFERENCES actors (id)\n",
    ");\n",
    "\n",
    "\n",
    "```"
   ]
  },
  {
   "cell_type": "markdown",
   "id": "25feb0dc",
   "metadata": {},
   "source": [
    "2. (5 points) In a Jupyter Notebook, write code either in Python, Java or C, or another imperative language, to create\n",
    "a database named imdb_movies; then use code to connect to your DB instance and create each of the tables in your\n",
    "DDL file. Do not rename the tables or any attributes in the ER diagram."
   ]
  },
  {
   "cell_type": "code",
   "execution_count": 128,
   "id": "4788a716",
   "metadata": {},
   "outputs": [],
   "source": [
    "import mysql.connector"
   ]
  },
  {
   "cell_type": "code",
   "execution_count": 133,
   "id": "a09065cb",
   "metadata": {},
   "outputs": [
    {
     "name": "stdout",
     "output_type": "stream",
     "text": [
      "Connected\n"
     ]
    }
   ],
   "source": [
    "db = mysql.connector.connect(host='localhost', port='3306',user='root',password='-=ZF=-6969')\n",
    "if db:\n",
    "    print(\"Connected\")\n",
    "    cursor = db.cursor()"
   ]
  },
  {
   "cell_type": "code",
   "execution_count": 130,
   "id": "eb06f7f2",
   "metadata": {},
   "outputs": [
    {
     "name": "stdout",
     "output_type": "stream",
     "text": [
      "DB Modifications: \n",
      "1\r",
      "2\r",
      "3\r",
      "4\r",
      "5\r",
      "6\r",
      "7\r",
      "8\r",
      "9\r"
     ]
    }
   ],
   "source": [
    "\n",
    "DDLFile = open('finalDDL.txt','r', encoding='utf-8')\n",
    "\n",
    "print(\"DB Modifications: \")\n",
    "counter = 0\n",
    "for line in DDLFile:\n",
    "    if line != '\\n':\n",
    "        cursor.execute(line)\n",
    "        counter += 1\n",
    "        print(counter, end='\\r')\n",
    "            "
   ]
  },
  {
   "cell_type": "markdown",
   "id": "052dfdd1",
   "metadata": {},
   "source": [
    "3. (5 points) Write code using the language chosen in question 2 above to connect to your DB instance and insert the\n",
    "data from each of the DDL files provided on Canvas into the your imdb_movies database. Display the number of\n",
    "rows affected for each table (1 cumulative count for all inserts per table - example: 388269 rows inserted for table\n",
    "movies)."
   ]
  },
  {
   "cell_type": "code",
   "execution_count": 131,
   "id": "94c58320",
   "metadata": {
    "scrolled": false
   },
   "outputs": [
    {
     "name": "stdout",
     "output_type": "stream",
     "text": [
      "Entries inserted in table actors:\n",
      "817718\n",
      "\n",
      "Entries inserted in table directors:\n",
      "86880\n",
      "\n",
      "Entries inserted in table directors_genres:\n",
      "156562\n",
      "\n",
      "Entries inserted in table movies:\n",
      "388269\n",
      "\n",
      "Entries inserted in table movies_directors:\n",
      "371180\n",
      "\n",
      "Entries inserted in table movies_genres:\n",
      "395119\n",
      "\n",
      "Entries inserted in table roles:\n",
      "3431966\n",
      "\n"
     ]
    }
   ],
   "source": [
    "table_names = ['actors','directors','directors_genres','movies','movies_directors','movies_genres','roles']\n",
    "#temp = ['roles']\n",
    "#  'final_project_imdb_ddl/'+each+'.sql'\n",
    "for each in table_names:\n",
    "    with open('final_project_imdb_ddl/'+each+'.sql','r',encoding='utf-8') as f:\n",
    "        print('Entries inserted in table '+ each + ':')\n",
    "        counter = 0\n",
    "        for line in f:\n",
    "            #print(line)\n",
    "            if line != \"\\n\":\n",
    "                cursor.execute(line)\n",
    "                db.commit()\n",
    "                counter += 1\n",
    "                print(counter, end='\\r')\n",
    "        print('\\n')"
   ]
  },
  {
   "cell_type": "markdown",
   "id": "66d4ead6",
   "metadata": {},
   "source": [
    "4. (10 points) Write and execute a query that returns a count of all movies in the database where the rank column is\n",
    "not NULL. Print out only the count.\n"
   ]
  },
  {
   "cell_type": "code",
   "execution_count": 136,
   "id": "acdf24e7",
   "metadata": {},
   "outputs": [
    {
     "name": "stdout",
     "output_type": "stream",
     "text": [
      "Total non-null objects: 67245\n"
     ]
    }
   ],
   "source": [
    "query = \"SELECT count(*) FROM movies WHERE `rank`IS NOT NULL;\"\n",
    "cursor.execute(query)\n",
    "for each in cursor:\n",
    "    print(\"Total non-null objects: \"+ str(each[0]))"
   ]
  }
 ],
 "metadata": {
  "kernelspec": {
   "display_name": "Python 3 (ipykernel)",
   "language": "python",
   "name": "python3"
  },
  "language_info": {
   "codemirror_mode": {
    "name": "ipython",
    "version": 3
   },
   "file_extension": ".py",
   "mimetype": "text/x-python",
   "name": "python",
   "nbconvert_exporter": "python",
   "pygments_lexer": "ipython3",
   "version": "3.9.12"
  }
 },
 "nbformat": 4,
 "nbformat_minor": 5
}

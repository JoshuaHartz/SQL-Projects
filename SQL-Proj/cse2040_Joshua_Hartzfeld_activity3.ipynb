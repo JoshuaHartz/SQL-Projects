{
 "cells": [
  {
   "cell_type": "markdown",
   "id": "b1d4c3f1",
   "metadata": {},
   "source": [
    "# Activity 3"
   ]
  },
  {
   "cell_type": "markdown",
   "id": "ebadb187",
   "metadata": {},
   "source": [
    "### Joshua Hartzfeld\n",
    "### CSE 4020"
   ]
  },
  {
   "cell_type": "markdown",
   "id": "b77b9b9f",
   "metadata": {},
   "source": [
    "### Question 1"
   ]
  },
  {
   "cell_type": "markdown",
   "id": "ae5b1776",
   "metadata": {},
   "source": [
    "Execute a single query to return and print out the total assets owned by the bank ( i.e., a cumulative\n",
    "total of the assets at all branches)"
   ]
  },
  {
   "cell_type": "code",
   "execution_count": 1,
   "id": "a3928ddb",
   "metadata": {},
   "outputs": [],
   "source": [
    "import mysql.connector"
   ]
  },
  {
   "cell_type": "code",
   "execution_count": 2,
   "id": "a058086d",
   "metadata": {},
   "outputs": [
    {
     "name": "stdout",
     "output_type": "stream",
     "text": [
      "Branch Name    Branch City    assets\n",
      "Round Hill     Horseneck      $7,000,000.00\n",
      "Brighton       Brooklyn       $6,125,000.00\n",
      "North Town     Rye            $3,237,500.00\n",
      "Redwood        Palo Alto      $2,489,583.33\n",
      "Perryridge     Horseneck      $2,089,583.33\n",
      "Downtown       Brooklyn       $1,289,583.33\n",
      "Central        Rye            $789,863.33\n",
      "Mianus         Horseneck      $789,783.33\n",
      "Pownal         Bennington     $789,583.33\n",
      "Total:                        $24,600,479.98\n"
     ]
    }
   ],
   "source": [
    "\n",
    "db = mysql.connector.connect(host='bankdb.c8vwdpg3sx2q.us-east-1.rds.amazonaws.com',database='bank',user='admin',password='-=ZF=-6969')\n",
    "cursor = db.cursor()\n",
    "#getting branch table for reference\n",
    "cursor.execute('SELECT * FROM branch order by assets desc')\n",
    "print(f\"Branch Name{' ':3} Branch City{' ':3} assets\")\n",
    "for x in cursor:\n",
    "    num = '{:,}'.format(x[2])\n",
    "    print(f\"{x[0]:<14} {x[1]:<14} ${num}\")\n",
    "\n",
    "#getting total (THE TOTAL QUERY)\n",
    "cursor.execute(\"SELECT SUM(assets) FROM branch\")\n",
    "for x in cursor:\n",
    "    num = '{:,}'.format(x[0])\n",
    "    print(f\"Total:{' ':23} ${num}\")"
   ]
  },
  {
   "cell_type": "markdown",
   "id": "976f67bb",
   "metadata": {},
   "source": [
    "### Question 2"
   ]
  },
  {
   "cell_type": "markdown",
   "id": "af5b6811",
   "metadata": {},
   "source": [
    "(10 points) Create a trigger named maintain_branch_size on your branch table that ensures that a small\n",
    "branch does not become a large branch (i.e., that its total assets never gets to 3 million dollars). Whenever an\n",
    "update to the assets of a small branch is attempted that would cause it to become a large branch, your trigger\n",
    "should store this excess money in a temporary table (e.g. bailout_cache) to be later divided equally among the\n",
    "existing large branches, capping the small branch at 2,999,999.99 in total assets.\n"
   ]
  },
  {
   "cell_type": "code",
   "execution_count": 3,
   "id": "042ae321",
   "metadata": {},
   "outputs": [],
   "source": [
    "db = mysql.connector.connect(host='bankdb.c8vwdpg3sx2q.us-east-1.rds.amazonaws.com',database='bank',user='admin',password='-=ZF=-6969')\n",
    "cursor = db.cursor(buffered=True)\n"
   ]
  },
  {
   "cell_type": "code",
   "execution_count": 4,
   "id": "1e2969f2",
   "metadata": {},
   "outputs": [],
   "source": [
    "# trigger query\n",
    "bailout_cache_table_query = \"CREATE TABLE bailout_cache(cash DECIMAL(10,2))\"\n",
    "query = \"CREATE TRIGGER maintain_branch_size BEFORE UPDATE ON branch FOR EACH ROW BEGIN DECLARE excess_cash DECIMAL (10,2); IF NEW.assets > 2999999.99 AND OLD.assets < 2999999.99 THEN SET excess_cash = NEW.assets - 2999999.99; INSERT INTO bailout_cache (cash) VALUES (excess_cash); SET NEW.assets = 2999999.99; END IF; END;\"\n",
    "cursor.execute(bailout_cache_table_query)\n",
    "cursor.execute(query)\n"
   ]
  },
  {
   "cell_type": "markdown",
   "id": "3e36cb15",
   "metadata": {},
   "source": [
    "### Question 3"
   ]
  },
  {
   "cell_type": "code",
   "execution_count": 5,
   "id": "ce84347b",
   "metadata": {},
   "outputs": [],
   "source": [
    "#db2 = mysql.connector.connect(host='bankdb.c8vwdpg3sx2q.us-east-1.rds.amazonaws.com',database='bank',user='admin',password='-=ZF=-6969')\n",
    "#cursor2 = db2.cursor()\n",
    "query2 = \"UPDATE branch SET assets = assets + (10000000 / 6) WHERE assets < 3000000;\"\n",
    "cursor.execute(query2)\n",
    "db.commit()"
   ]
  },
  {
   "cell_type": "code",
   "execution_count": 6,
   "id": "81c2b7c5",
   "metadata": {},
   "outputs": [
    {
     "name": "stdout",
     "output_type": "stream",
     "text": [
      "Branch Name    Branch City    assets\n",
      "Round Hill     Horseneck      $7,000,000.00\n",
      "Brighton       Brooklyn       $6,125,000.00\n",
      "North Town     Rye            $3,237,500.00\n",
      "Perryridge     Horseneck      $2,999,999.99\n",
      "Redwood        Palo Alto      $2,999,999.99\n",
      "Downtown       Brooklyn       $2,956,250.00\n",
      "Central        Rye            $2,456,530.00\n",
      "Mianus         Horseneck      $2,456,450.00\n",
      "Pownal         Bennington     $2,456,250.00\n"
     ]
    }
   ],
   "source": [
    "#db3 = mysql.connector.connect(host='bankdb.c8vwdpg3sx2q.us-east-1.rds.amazonaws.com',database='bank',user='admin',password='-=ZF=-6969')\n",
    "#cursor3 = db3.cursor()\n",
    "\n",
    "cursor.execute('SELECT * FROM branch order by assets desc')\n",
    "print(f\"Branch Name{' ':3} Branch City{' ':3} assets\")\n",
    "for x in cursor:\n",
    "    num = '{:,}'.format(x[2])\n",
    "    print(f\"{x[0]:<14} {x[1]:<14} ${num}\")"
   ]
  },
  {
   "cell_type": "markdown",
   "id": "6340b3a3",
   "metadata": {},
   "source": [
    "### Question 4"
   ]
  },
  {
   "cell_type": "code",
   "execution_count": 7,
   "id": "7e99eb8b",
   "metadata": {},
   "outputs": [],
   "source": [
    "#db4 = mysql.connector.connect(host='bankdb.c8vwdpg3sx2q.us-east-1.rds.amazonaws.com',database='bank',user='admin',password='-=ZF=-6969')\n",
    "#cursor4 = db4.cursor()\n",
    "query4 = \"UPDATE branch b SET b.assets = b.assets + ((SELECT SUM(cash) FROM bailout_cache)/3) WHERE b.assets > 3000000;\"\n",
    "\n",
    "cursor.execute(query4)\n",
    "db.commit()"
   ]
  },
  {
   "cell_type": "code",
   "execution_count": 8,
   "id": "3b010a35",
   "metadata": {},
   "outputs": [
    {
     "name": "stdout",
     "output_type": "stream",
     "text": [
      "Branch Name    Branch City    assets\n",
      "Round Hill     Horseneck      $7,637,500.01\n",
      "Brighton       Brooklyn       $6,762,500.01\n",
      "North Town     Rye            $3,875,000.01\n",
      "Perryridge     Horseneck      $2,999,999.99\n",
      "Redwood        Palo Alto      $2,999,999.99\n",
      "Downtown       Brooklyn       $2,956,250.00\n",
      "Central        Rye            $2,456,530.00\n",
      "Mianus         Horseneck      $2,456,450.00\n",
      "Pownal         Bennington     $2,456,250.00\n"
     ]
    }
   ],
   "source": [
    "cursor.execute(\"SELECT * FROM branch order by assets desc\")\n",
    "print(f\"Branch Name{' ':3} Branch City{' ':3} assets\")\n",
    "for x in cursor:\n",
    "    num = '{:,}'.format(x[2])\n",
    "    print(f\"{x[0]:<14} {x[1]:<14} ${num}\")"
   ]
  },
  {
   "cell_type": "markdown",
   "id": "532be5f8",
   "metadata": {},
   "source": [
    "### Question 5"
   ]
  },
  {
   "cell_type": "code",
   "execution_count": 9,
   "id": "db4117e4",
   "metadata": {},
   "outputs": [
    {
     "name": "stdout",
     "output_type": "stream",
     "text": [
      "Branch Name    Branch City    assets\n",
      "Round Hill     Horseneck      $7,637,500.01\n",
      "Brighton       Brooklyn       $6,762,500.01\n",
      "North Town     Rye            $3,875,000.01\n",
      "Perryridge     Horseneck      $2,999,999.99\n",
      "Redwood        Palo Alto      $2,999,999.99\n",
      "Downtown       Brooklyn       $2,956,250.00\n",
      "Central        Rye            $2,456,530.00\n",
      "Mianus         Horseneck      $2,456,450.00\n",
      "Pownal         Bennington     $2,456,250.00\n",
      "Total:                        $34,600,480.01\n"
     ]
    }
   ],
   "source": [
    "cursor.execute('SELECT * FROM branch order by assets desc')\n",
    "print(f\"Branch Name{' ':3} Branch City{' ':3} assets\")\n",
    "for x in cursor:\n",
    "    num = '{:,}'.format(x[2])\n",
    "    print(f\"{x[0]:<14} {x[1]:<14} ${num}\")\n",
    "\n",
    "#getting total (THE TOTAL QUERY)\n",
    "cursor.execute(\"SELECT SUM(assets) FROM branch\")\n",
    "for x in cursor:\n",
    "    num = '{:,}'.format(x[0])\n",
    "    print(f\"Total:{' ':23} ${num}\")\n"
   ]
  },
  {
   "cell_type": "code",
   "execution_count": 10,
   "id": "e980d6f4",
   "metadata": {},
   "outputs": [],
   "source": [
    "db.close()"
   ]
  },
  {
   "cell_type": "code",
   "execution_count": null,
   "id": "cb842109",
   "metadata": {},
   "outputs": [],
   "source": []
  }
 ],
 "metadata": {
  "kernelspec": {
   "display_name": "Python 3 (ipykernel)",
   "language": "python",
   "name": "python3"
  },
  "language_info": {
   "codemirror_mode": {
    "name": "ipython",
    "version": 3
   },
   "file_extension": ".py",
   "mimetype": "text/x-python",
   "name": "python",
   "nbconvert_exporter": "python",
   "pygments_lexer": "ipython3",
   "version": "3.9.12"
  }
 },
 "nbformat": 4,
 "nbformat_minor": 5
}

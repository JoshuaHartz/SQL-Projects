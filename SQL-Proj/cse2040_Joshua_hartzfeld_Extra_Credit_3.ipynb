{
 "cells": [
  {
   "cell_type": "markdown",
   "id": "c3ebb05c",
   "metadata": {},
   "source": [
    "# Extra Credit 3 - NoSQL"
   ]
  },
  {
   "cell_type": "markdown",
   "id": "6dc6a994",
   "metadata": {},
   "source": [
    "### by: Joshua Hartzfeld\n"
   ]
  },
  {
   "cell_type": "code",
   "execution_count": 78,
   "id": "03e4c15d",
   "metadata": {},
   "outputs": [],
   "source": [
    "import json\n",
    "import re\n",
    "from pymongo.mongo_client import MongoClient\n",
    "#from pymongo.server_api import ServerApi"
   ]
  },
  {
   "cell_type": "code",
   "execution_count": 1,
   "id": "2e82144a",
   "metadata": {},
   "outputs": [],
   "source": [
    "#connecting to a MongoDB locally \n",
    "#made the mistake of trying the cloud server before realizing recipeitems.json is 170k items long)"
   ]
  },
  {
   "cell_type": "code",
   "execution_count": 103,
   "id": "0d4175a3",
   "metadata": {},
   "outputs": [
    {
     "name": "stdout",
     "output_type": "stream",
     "text": [
      "connected\n",
      "['admin', 'config', 'local', 'recipesdb']\n"
     ]
    }
   ],
   "source": [
    "\n",
    "client = MongoClient('localhost', 27017)\n",
    "if client:\n",
    "    print(\"connected\")\n",
    "    print(client.list_database_names())"
   ]
  },
  {
   "cell_type": "markdown",
   "id": "9f40eed2",
   "metadata": {},
   "source": [
    "## T1"
   ]
  },
  {
   "cell_type": "markdown",
   "id": "7146b68e",
   "metadata": {},
   "source": [
    "#### This Code generates and populates recipesdb with a collection named recipes with recipeitems.json"
   ]
  },
  {
   "cell_type": "code",
   "execution_count": 181,
   "id": "033e3a72",
   "metadata": {},
   "outputs": [
    {
     "name": "stdout",
     "output_type": "stream",
     "text": [
      "Items Modified: \n",
      "173278\r"
     ]
    }
   ],
   "source": [
    "db = client[\"recipesdb\"]\n",
    "collection = db[\"recipes\"]\n",
    "counter = 0\n",
    "print(\"Items Modified: \")\n",
    "with open(\"recipeitems.json\",\"r\",encoding=\"utf-8\") as f:\n",
    "    #gather everything into recipes\n",
    "    recipes = [json.loads(line) for line in f]\n",
    "    # since recipes is an array of json elements we can do for each in recipes.\n",
    "    for recipe in recipes:\n",
    "        #set the \"_id\" to the $oid\n",
    "        recipe[\"_id\"] = recipe[\"_id\"][\"$oid\"]\n",
    "        #print(recipe)\n",
    "        #setting name as root\n",
    "        root_item = recipe.pop('name')\n",
    "        #print(root_item)\n",
    "        #setting the rest of the text as the sub json string\n",
    "        sub_json = {\"Info\": recipe}\n",
    "        #inserting to the collection \"recipes\"\n",
    "        dict = {\n",
    "            \"name\": root_item,\n",
    "            \"Info\": recipe\n",
    "        }\n",
    "        collection.insert_one(dict)\n",
    "        counter += 1\n",
    "        \n",
    "        print(counter,end='\\r')"
   ]
  },
  {
   "cell_type": "markdown",
   "id": "1cc5f8f4",
   "metadata": {},
   "source": [
    "## T2"
   ]
  },
  {
   "cell_type": "markdown",
   "id": "6c9027cb",
   "metadata": {},
   "source": [
    "### a) Create a query that finds recipes for breakfast foods (the description contains \"breakfast\" or \"Breakfast\"). How many are there? (Hint: count the items in the response returned)"
   ]
  },
  {
   "cell_type": "code",
   "execution_count": 182,
   "id": "68707bc0",
   "metadata": {
    "scrolled": true
   },
   "outputs": [
    {
     "name": "stdout",
     "output_type": "stream",
     "text": [
      "Total Breakfast Recipies: 3524\n"
     ]
    }
   ],
   "source": [
    "collection = db.recipes\n",
    "\n",
    "\n",
    "recipes = collection.find({\"Info.description\": {\"$regex\": \"(?i)breakfast\"}})\n",
    "counter = 0\n",
    "for record in recipes:\n",
    "    counter += 1\n",
    "    \n",
    "print(f\"Total Breakfast Recipies: {counter}\")\n",
    "\n",
    "#im not 100% sure if this is 100% accurate but i use a regex on \n",
    "#Info.description to look for case insensitive versions of breakfast with (?i). "
   ]
  },
  {
   "cell_type": "markdown",
   "id": "50ebc6ec",
   "metadata": {},
   "source": [
    "### b) Issue a query to find out how many of the recipes list \"cinnamon/Cinnamon\" as an ingredient."
   ]
  },
  {
   "cell_type": "code",
   "execution_count": 183,
   "id": "21679bc6",
   "metadata": {},
   "outputs": [
    {
     "name": "stdout",
     "output_type": "stream",
     "text": [
      "Total recipes using Cinnamon: 10531\n"
     ]
    }
   ],
   "source": [
    "recipes = collection.find({\"Info.ingredients\": {\"$regex\": \"(?i)cinnamon\"}})\n",
    "counter2 = 0\n",
    "for each in recipes:\n",
    "    counter2 += 1\n",
    "print(f\"Total recipes using Cinnamon: {counter2}\") "
   ]
  },
  {
   "cell_type": "markdown",
   "id": "abf2ea15",
   "metadata": {},
   "source": [
    "### (c) (2 points) Issue a query to find out how many of the recipes list misspelled \"cinamon\" as an ingredient.\n"
   ]
  },
  {
   "cell_type": "code",
   "execution_count": 184,
   "id": "931f826a",
   "metadata": {},
   "outputs": [
    {
     "name": "stdout",
     "output_type": "stream",
     "text": [
      "Total recipes using *Cinamon*: 11\n"
     ]
    }
   ],
   "source": [
    "recipes = collection.find({\"Info.ingredients\": {\"$regex\": \"(?i)cinamon\"}})\n",
    "counter3 = 0\n",
    "for each in recipes:\n",
    "    counter3 += 1\n",
    "print(f\"Total recipes using *Cinamon*: {counter3}\") "
   ]
  },
  {
   "cell_type": "code",
   "execution_count": null,
   "id": "a1584edd",
   "metadata": {},
   "outputs": [],
   "source": []
  }
 ],
 "metadata": {
  "kernelspec": {
   "display_name": "Python 3 (ipykernel)",
   "language": "python",
   "name": "python3"
  },
  "language_info": {
   "codemirror_mode": {
    "name": "ipython",
    "version": 3
   },
   "file_extension": ".py",
   "mimetype": "text/x-python",
   "name": "python",
   "nbconvert_exporter": "python",
   "pygments_lexer": "ipython3",
   "version": "3.9.12"
  }
 },
 "nbformat": 4,
 "nbformat_minor": 5
}
